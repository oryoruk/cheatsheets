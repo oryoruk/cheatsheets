{
 "metadata": {
  "name": "",
  "signature": "sha256:486593e137d0bb7645870ed56d0e57852927164742c5bda2a8e8c15f706214f5"
 },
 "nbformat": 3,
 "nbformat_minor": 0,
 "worksheets": [
  {
   "cells": [
    {
     "cell_type": "code",
     "collapsed": false,
     "input": [
      "import copy\n",
      "import csv\n",
      "import pandas as pd\n",
      "import numpy as np\n",
      "import scipy as scipy\n",
      "from scipy.stats import pearsonr\n",
      "import math\n",
      "import matplotlib.pyplot as plt\n",
      "from matplotlib_venn import venn3, venn3_circles, venn2, venn2_circles\n",
      "import itertools\n",
      "from copy import deepcopy\n",
      "from collections import defaultdict\n",
      "from datetime import datetime\n",
      "pd.options.display.mpl_style = 'default'\n",
      "%matplotlib inline\n",
      "%pylab inline"
     ],
     "language": "python",
     "metadata": {},
     "outputs": [
      {
       "output_type": "stream",
       "stream": "stdout",
       "text": [
        "Populating the interactive namespace from numpy and matplotlib\n"
       ]
      },
      {
       "output_type": "stream",
       "stream": "stderr",
       "text": [
        "WARNING: pylab import has clobbered these variables: ['copy', 'datetime']\n",
        "`%matplotlib` prevents importing * from pylab and numpy\n"
       ]
      }
     ],
     "prompt_number": 9
    },
    {
     "cell_type": "heading",
     "level": 3,
     "metadata": {},
     "source": [
      "create new df"
     ]
    },
    {
     "cell_type": "code",
     "collapsed": false,
     "input": [
      "example_df = pd.DataFrame(columns = ['column_a','column_b'])"
     ],
     "language": "python",
     "metadata": {},
     "outputs": [],
     "prompt_number": 5
    },
    {
     "cell_type": "code",
     "collapsed": false,
     "input": [
      "example_df = pd.DataFrame([['a','b']],columns = ['column_a','column_b'])"
     ],
     "language": "python",
     "metadata": {},
     "outputs": [],
     "prompt_number": 27
    },
    {
     "cell_type": "code",
     "collapsed": false,
     "input": [
      "example_df = example_df.append(pd.DataFrame([['c','d']],columns = ['column_a','column_b']),ignore_index=True)"
     ],
     "language": "python",
     "metadata": {},
     "outputs": [],
     "prompt_number": 28
    },
    {
     "cell_type": "heading",
     "level": 3,
     "metadata": {},
     "source": [
      "reading in csv"
     ]
    },
    {
     "cell_type": "code",
     "collapsed": false,
     "input": [
      "pd.read_csv(file_name,delimiter = '\\t',header=None, names = ['ID','Gene_Name','chrom','chrom_start','chrom_end','rt_score'] , skiprows=16)\n",
      "rt_query_regs = pd.read_csv(output_dir+rt_binned_query_regions_file,delimiter = '\\t',header=None, names = ['chrom','chrom_start','chrom_end'], dtype={'chrom':object} )"
     ],
     "language": "python",
     "metadata": {},
     "outputs": []
    },
    {
     "cell_type": "heading",
     "level": 3,
     "metadata": {},
     "source": [
      "get essential info on dataframe"
     ]
    },
    {
     "cell_type": "code",
     "collapsed": false,
     "input": [
      "rt_bg01_avg.count()"
     ],
     "language": "python",
     "metadata": {},
     "outputs": []
    },
    {
     "cell_type": "code",
     "collapsed": false,
     "input": [
      "#or even better:\n",
      "len(example_df)"
     ],
     "language": "python",
     "metadata": {},
     "outputs": [
      {
       "metadata": {},
       "output_type": "pyout",
       "prompt_number": 36,
       "text": [
        "2"
       ]
      }
     ],
     "prompt_number": 36
    },
    {
     "cell_type": "code",
     "collapsed": false,
     "input": [
      "rt_bg01_avg.win_size.describe()"
     ],
     "language": "python",
     "metadata": {},
     "outputs": []
    },
    {
     "cell_type": "code",
     "collapsed": false,
     "input": [
      "reg_rt_bg01_avg.dtypes"
     ],
     "language": "python",
     "metadata": {},
     "outputs": []
    },
    {
     "cell_type": "heading",
     "level": 3,
     "metadata": {},
     "source": [
      "types of columns, changing data types of columns"
     ]
    },
    {
     "cell_type": "code",
     "collapsed": false,
     "input": [
      "reg_rt_bg01_avg.dtypes"
     ],
     "language": "python",
     "metadata": {},
     "outputs": []
    },
    {
     "cell_type": "code",
     "collapsed": false,
     "input": [
      "sm_cosmic.chrom = sm_cosmic.chrom.astype(str)"
     ],
     "language": "python",
     "metadata": {},
     "outputs": []
    },
    {
     "cell_type": "heading",
     "level": 3,
     "metadata": {},
     "source": [
      "last row index"
     ]
    },
    {
     "cell_type": "code",
     "collapsed": false,
     "input": [
      "example_df.tail(1).index[0]"
     ],
     "language": "python",
     "metadata": {},
     "outputs": [
      {
       "metadata": {},
       "output_type": "pyout",
       "prompt_number": 33,
       "text": [
        "1"
       ]
      }
     ],
     "prompt_number": 33
    },
    {
     "cell_type": "heading",
     "level": 3,
     "metadata": {},
     "source": [
      "no of rows"
     ]
    },
    {
     "cell_type": "code",
     "collapsed": false,
     "input": [
      "len(example_df.index)"
     ],
     "language": "python",
     "metadata": {},
     "outputs": [
      {
       "metadata": {},
       "output_type": "pyout",
       "prompt_number": 32,
       "text": [
        "2"
       ]
      }
     ],
     "prompt_number": 32
    },
    {
     "cell_type": "code",
     "collapsed": false,
     "input": [
      "#or even better:\n",
      "len(example_df)"
     ],
     "language": "python",
     "metadata": {},
     "outputs": [
      {
       "metadata": {},
       "output_type": "pyout",
       "prompt_number": 36,
       "text": [
        "2"
       ]
      }
     ],
     "prompt_number": 36
    },
    {
     "cell_type": "heading",
     "level": 3,
     "metadata": {},
     "source": [
      "adding row(s)"
     ]
    },
    {
     "cell_type": "code",
     "collapsed": false,
     "input": [
      "merged_data = merged_data.append(pd.DataFrame([[merged_chrom,merged_chrom_start,merged_chrom_end,merged_rt_score,merged_snp_density,merged_win_str_index,merged_win_end_index]],\\\n",
      "                                                          columns=['chrom','chrom_start','chrom_end','rt_score','snp_density','merged_win_str_index','merged_win_end_index']),\\\n",
      "                                                             ignore_index=True)  "
     ],
     "language": "python",
     "metadata": {},
     "outputs": []
    },
    {
     "cell_type": "heading",
     "level": 3,
     "metadata": {},
     "source": [
      "dropping row(s)"
     ]
    },
    {
     "cell_type": "code",
     "collapsed": false,
     "input": [
      "rt_bg01_avg = rt_bg01_avg[rt_bg01_avg.chrom.isin([str(num) for num in range(1,23)] + ['X','Y'])]\n",
      "rt_bg01_avg.reset_index(inplace=True,drop=True)"
     ],
     "language": "python",
     "metadata": {},
     "outputs": []
    },
    {
     "cell_type": "heading",
     "level": 3,
     "metadata": {},
     "source": [
      "dropping duplicate row(s)"
     ]
    },
    {
     "cell_type": "code",
     "collapsed": false,
     "input": [
      "rt_bg01_avg.drop_duplicates()"
     ],
     "language": "python",
     "metadata": {},
     "outputs": []
    },
    {
     "cell_type": "heading",
     "level": 3,
     "metadata": {},
     "source": [
      "adding column(s)"
     ]
    },
    {
     "cell_type": "code",
     "collapsed": false,
     "input": [
      "example_df['new_column'] = 0"
     ],
     "language": "python",
     "metadata": {},
     "outputs": [],
     "prompt_number": 34
    },
    {
     "cell_type": "code",
     "collapsed": false,
     "input": [
      "example_df"
     ],
     "language": "python",
     "metadata": {},
     "outputs": [
      {
       "html": [
        "<div style=\"max-width:1500px;overflow:auto;\">\n",
        "<table border=\"1\" class=\"dataframe\">\n",
        "  <thead>\n",
        "    <tr style=\"text-align: right;\">\n",
        "      <th></th>\n",
        "      <th>column_a</th>\n",
        "      <th>column_b</th>\n",
        "      <th>new_column</th>\n",
        "    </tr>\n",
        "  </thead>\n",
        "  <tbody>\n",
        "    <tr>\n",
        "      <th>0</th>\n",
        "      <td>a</td>\n",
        "      <td>b</td>\n",
        "      <td>0</td>\n",
        "    </tr>\n",
        "    <tr>\n",
        "      <th>1</th>\n",
        "      <td>c</td>\n",
        "      <td>d</td>\n",
        "      <td>0</td>\n",
        "    </tr>\n",
        "  </tbody>\n",
        "</table>\n",
        "</div>"
       ],
       "metadata": {},
       "output_type": "pyout",
       "prompt_number": 35,
       "text": [
        "  column_a column_b  new_column\n",
        "0        a        b           0\n",
        "1        c        d           0"
       ]
      }
     ],
     "prompt_number": 35
    },
    {
     "cell_type": "heading",
     "level": 3,
     "metadata": {},
     "source": [
      "dropping column(s)"
     ]
    },
    {
     "cell_type": "code",
     "collapsed": false,
     "input": [
      "FSU_rt_dataset.drop('Gene_Name',axis=1,inplace=True)"
     ],
     "language": "python",
     "metadata": {},
     "outputs": []
    },
    {
     "cell_type": "heading",
     "level": 3,
     "metadata": {},
     "source": [
      "reordering columns"
     ]
    },
    {
     "cell_type": "code",
     "collapsed": false,
     "input": [
      "rt_bg01_avg = rt_bg01_avg[['chrom','chrom_start','chrom_end','rt_score']]"
     ],
     "language": "python",
     "metadata": {},
     "outputs": []
    },
    {
     "cell_type": "heading",
     "level": 3,
     "metadata": {},
     "source": [
      "renaming columns"
     ]
    },
    {
     "cell_type": "code",
     "collapsed": false,
     "input": [
      "new_rt_scores.columns = ['rel_coord','rt_score']"
     ],
     "language": "python",
     "metadata": {},
     "outputs": []
    },
    {
     "cell_type": "heading",
     "level": 3,
     "metadata": {},
     "source": [
      "indexing & slicing"
     ]
    },
    {
     "cell_type": "code",
     "collapsed": false,
     "input": [
      "rt_bg01_avg.iloc[372216-3:372216+5]"
     ],
     "language": "python",
     "metadata": {},
     "outputs": []
    },
    {
     "cell_type": "code",
     "collapsed": false,
     "input": [
      "rt[(rt.chrom == chrom)&(rt.chrom_start>chrom_start)&(rt.chrom_start<chrom_end)].chrom_start"
     ],
     "language": "python",
     "metadata": {},
     "outputs": []
    },
    {
     "cell_type": "code",
     "collapsed": false,
     "input": [
      "rt_bg01_avg[~rt_bg01_avg.chrom.isin([str(num) for num in range(1,23)] + ['X','Y'])].head()"
     ],
     "language": "python",
     "metadata": {},
     "outputs": []
    },
    {
     "cell_type": "heading",
     "level": 3,
     "metadata": {},
     "source": [
      "creating new dataframe from slice"
     ]
    },
    {
     "cell_type": "code",
     "collapsed": false,
     "input": [
      "growth = running_record[running_record.category == 'growth']\n",
      "growth = growth.groupby(growth.index).sum()\n",
      "growth = growth.reindex(pd.date_range(running_record.index.min(),running_record.index.max()),fill_value=0)\n",
      "growth = growth.fillna(0)"
     ],
     "language": "python",
     "metadata": {},
     "outputs": []
    },
    {
     "cell_type": "heading",
     "level": 3,
     "metadata": {},
     "source": [
      "set indexed & sliced"
     ]
    },
    {
     "cell_type": "code",
     "collapsed": false,
     "input": [
      "rt_bg01_avg.ix[rt_bg01_avg.distance<0,'distance']=0"
     ],
     "language": "python",
     "metadata": {},
     "outputs": []
    },
    {
     "cell_type": "heading",
     "level": 3,
     "metadata": {},
     "source": [
      "handle missing values (fill, interpolate,drop etc.)"
     ]
    },
    {
     "cell_type": "code",
     "collapsed": false,
     "input": [
      "rt_bg01_avg[rt_bg01_avg.distance.isnull()]"
     ],
     "language": "python",
     "metadata": {},
     "outputs": []
    },
    {
     "cell_type": "code",
     "collapsed": false,
     "input": [
      "rt_bg01_avg.distance.fillna(0,inplace=True)"
     ],
     "language": "python",
     "metadata": {},
     "outputs": []
    },
    {
     "cell_type": "code",
     "collapsed": false,
     "input": [
      "inthob = inthob.fillna(0)"
     ],
     "language": "python",
     "metadata": {},
     "outputs": []
    },
    {
     "cell_type": "code",
     "collapsed": false,
     "input": [
      "results.dropna(inplace=True)\n",
      "results.reset_index(inplace=True,drop=True)"
     ],
     "language": "python",
     "metadata": {},
     "outputs": []
    },
    {
     "cell_type": "heading",
     "level": 3,
     "metadata": {},
     "source": [
      "interpolate missing values (normal)"
     ]
    },
    {
     "cell_type": "code",
     "collapsed": false,
     "input": [
      "df = pd.DataFrame({'A': [1, 2.1, np.nan, 4.7, 5.6, 6.8],'B': [np.nan,.25, np.nan, 4, 12.2, np.nan]})\n",
      "df = df.interpolate()\n",
      "df"
     ],
     "language": "python",
     "metadata": {},
     "outputs": [
      {
       "html": [
        "<div style=\"max-width:1500px;overflow:auto;\">\n",
        "<table border=\"1\" class=\"dataframe\">\n",
        "  <thead>\n",
        "    <tr style=\"text-align: right;\">\n",
        "      <th></th>\n",
        "      <th>A</th>\n",
        "      <th>B</th>\n",
        "    </tr>\n",
        "  </thead>\n",
        "  <tbody>\n",
        "    <tr>\n",
        "      <th>0</th>\n",
        "      <td>1.0</td>\n",
        "      <td>NaN</td>\n",
        "    </tr>\n",
        "    <tr>\n",
        "      <th>1</th>\n",
        "      <td>2.1</td>\n",
        "      <td>0.250</td>\n",
        "    </tr>\n",
        "    <tr>\n",
        "      <th>2</th>\n",
        "      <td>3.4</td>\n",
        "      <td>2.125</td>\n",
        "    </tr>\n",
        "    <tr>\n",
        "      <th>3</th>\n",
        "      <td>4.7</td>\n",
        "      <td>4.000</td>\n",
        "    </tr>\n",
        "    <tr>\n",
        "      <th>4</th>\n",
        "      <td>5.6</td>\n",
        "      <td>12.200</td>\n",
        "    </tr>\n",
        "    <tr>\n",
        "      <th>5</th>\n",
        "      <td>6.8</td>\n",
        "      <td>12.200</td>\n",
        "    </tr>\n",
        "  </tbody>\n",
        "</table>\n",
        "</div>"
       ],
       "metadata": {},
       "output_type": "pyout",
       "prompt_number": 10,
       "text": [
        "     A       B\n",
        "0  1.0     NaN\n",
        "1  2.1   0.250\n",
        "2  3.4   2.125\n",
        "3  4.7   4.000\n",
        "4  5.6  12.200\n",
        "5  6.8  12.200"
       ]
      }
     ],
     "prompt_number": 10
    },
    {
     "cell_type": "heading",
     "level": 3,
     "metadata": {},
     "source": [
      "interpolate missing values (with de-extrapolating trailing NaNs)"
     ]
    },
    {
     "cell_type": "code",
     "collapsed": false,
     "input": [
      "df = pd.DataFrame({'A': [1, 2.1, np.nan, 4.7, 5.6, 6.8],'B': [np.nan,.25, np.nan, 4, 12.2, np.nan]})t\n",
      "df_mask = df.fillna(method='backfill').isnull()\n",
      "df = df.interpolate()\n",
      "df[df_mask] = np.nan\n",
      "df"
     ],
     "language": "python",
     "metadata": {},
     "outputs": [
      {
       "html": [
        "<div style=\"max-width:1500px;overflow:auto;\">\n",
        "<table border=\"1\" class=\"dataframe\">\n",
        "  <thead>\n",
        "    <tr style=\"text-align: right;\">\n",
        "      <th></th>\n",
        "      <th>A</th>\n",
        "      <th>B</th>\n",
        "    </tr>\n",
        "  </thead>\n",
        "  <tbody>\n",
        "    <tr>\n",
        "      <th>0</th>\n",
        "      <td>1.0</td>\n",
        "      <td>NaN</td>\n",
        "    </tr>\n",
        "    <tr>\n",
        "      <th>1</th>\n",
        "      <td>2.1</td>\n",
        "      <td>0.250</td>\n",
        "    </tr>\n",
        "    <tr>\n",
        "      <th>2</th>\n",
        "      <td>3.4</td>\n",
        "      <td>2.125</td>\n",
        "    </tr>\n",
        "    <tr>\n",
        "      <th>3</th>\n",
        "      <td>4.7</td>\n",
        "      <td>4.000</td>\n",
        "    </tr>\n",
        "    <tr>\n",
        "      <th>4</th>\n",
        "      <td>5.6</td>\n",
        "      <td>12.200</td>\n",
        "    </tr>\n",
        "    <tr>\n",
        "      <th>5</th>\n",
        "      <td>6.8</td>\n",
        "      <td>NaN</td>\n",
        "    </tr>\n",
        "  </tbody>\n",
        "</table>\n",
        "</div>"
       ],
       "metadata": {},
       "output_type": "pyout",
       "prompt_number": 12,
       "text": [
        "     A       B\n",
        "0  1.0     NaN\n",
        "1  2.1   0.250\n",
        "2  3.4   2.125\n",
        "3  4.7   4.000\n",
        "4  5.6  12.200\n",
        "5  6.8     NaN"
       ]
      }
     ],
     "prompt_number": 12
    },
    {
     "cell_type": "heading",
     "level": 3,
     "metadata": {},
     "source": [
      "plotting"
     ]
    },
    {
     "cell_type": "code",
     "collapsed": false,
     "input": [
      "(time_use/60.0).plot(figsize = (45,8), fontsize = 15,ylim= [-1,7], yticks = range(8) )"
     ],
     "language": "python",
     "metadata": {},
     "outputs": []
    },
    {
     "cell_type": "code",
     "collapsed": false,
     "input": [
      "ax = (time_use/60.0).plot(figsize = (45,8), fontsize = 15, stacked = True, ylim=[-1,16],yticks = range(17))"
     ],
     "language": "python",
     "metadata": {},
     "outputs": []
    },
    {
     "cell_type": "code",
     "collapsed": false,
     "input": [
      "#plt.figure()\n",
      "#ax = fig.add_subplot(111)\n",
      "\n",
      "#plt.axvspan(2,5,facecolor = '0.5', alpha =0.5)\n",
      "\n",
      "#plt.xlim([0,100])\n",
      "\n",
      "#a = datetime64('2016-04-17')\n",
      "ax = (time_use/60.0).plot(figsize = (45,8), fontsize = 15,ylim= [-1,16], yticks = range(17),kind  = 'bar',stacked=True, rot=0)#, grid=True)\n",
      "ymin, ymax = ax.get_ylim()\n",
      "xmin, xmax = ax.get_xlim()\n",
      "\n",
      "\n",
      "#record starts on a friday:\n",
      "ax.axvspan(xmin= xmin,xmax= xmin+1, ymin=ymin, ymax= ymax, color='#0066cc',alpha = 0.2, zorder = -1 )\n",
      "\n",
      "#highlight weekends in green:\n",
      "for weekend_start in np.arange(xmin+1,xmax-1, 7):\n",
      "    ax.axvspan(xmin= weekend_start,xmax= weekend_start+2, ymin=ymin, ymax= ymax, color='g',alpha = 0.2, zorder = -1 )\n",
      "\n",
      "#highlight weekdays in blue: \n",
      "for week_start in np.arange(xmin+3,xmax-1, 7):\n",
      "    ax.axvspan(xmin= week_start,xmax= week_start+5, ymin=ymin, ymax= ymax, color='#0066cc',alpha = 0.2, zorder = -1 )\n",
      "\n",
      "ax.set_xticklabels([x.strftime('%a\\n%d\\n%h\\n%Y') for x in time_use.index])\n",
      "#ax.set_xticklabels([], minor=True)\n",
      "\n",
      "#ax.set_xticklabels([], major=True)\n",
      "#ax.set_xticklabels()\n",
      "#ax.grid(True)\n",
      "\n",
      "#current day is highlighted in red:\n",
      "ax.axvspan(xmin= xmax-1,xmax= xmax, ymin=ymin, ymax= ymax, color='r',alpha = 0.2, zorder = -1 )\n",
      "\n",
      "#plt.savefig('time_use.png', bbox_inches='tight', dpi=300)"
     ],
     "language": "python",
     "metadata": {},
     "outputs": []
    },
    {
     "cell_type": "code",
     "collapsed": false,
     "input": [
      "rt_fsu_hesc_bg01[rt_fsu_hesc_bg01.distance<10000].distance.hist(bins=1000, figsize=(60,20))"
     ],
     "language": "python",
     "metadata": {},
     "outputs": []
    },
    {
     "cell_type": "heading",
     "level": 3,
     "metadata": {},
     "source": [
      "time stamped data"
     ]
    },
    {
     "cell_type": "code",
     "collapsed": false,
     "input": [],
     "language": "python",
     "metadata": {},
     "outputs": []
    },
    {
     "cell_type": "heading",
     "level": 3,
     "metadata": {},
     "source": [
      "iterating over rows of dataframe"
     ]
    },
    {
     "cell_type": "code",
     "collapsed": false,
     "input": [
      "#be careful with i, it is the index of dataframe unlike i in enumerate trick:\n",
      "for i, row in example_df.iterrows():\n",
      "    e, f = row\n",
      "    print e\n",
      "    print f"
     ],
     "language": "python",
     "metadata": {},
     "outputs": [
      {
       "output_type": "stream",
       "stream": "stdout",
       "text": [
        "a\n",
        "b\n",
        "c\n",
        "d\n"
       ]
      }
     ],
     "prompt_number": 31
    },
    {
     "cell_type": "heading",
     "level": 3,
     "metadata": {},
     "source": [
      "sort"
     ]
    },
    {
     "cell_type": "code",
     "collapsed": false,
     "input": [
      "rt_uva_hmm_seg = rt_uva_hmm_seg.sort(['chrom','chrom_start'],ascending=[1,1])\n",
      "reg_rt_bg01_avg.reset_index(drop=True,inplace=True)"
     ],
     "language": "python",
     "metadata": {},
     "outputs": []
    },
    {
     "cell_type": "heading",
     "level": 3,
     "metadata": {},
     "source": [
      "get the index of row(s)"
     ]
    },
    {
     "cell_type": "code",
     "collapsed": false,
     "input": [
      "temp.head(2).index.values[0]"
     ],
     "language": "python",
     "metadata": {},
     "outputs": []
    },
    {
     "cell_type": "heading",
     "level": 3,
     "metadata": {},
     "source": [
      "reset index"
     ]
    },
    {
     "cell_type": "code",
     "collapsed": false,
     "input": [
      "reg_rt_bg01_avg.reset_index(drop=True,inplace=True)"
     ],
     "language": "python",
     "metadata": {},
     "outputs": []
    },
    {
     "cell_type": "heading",
     "level": 3,
     "metadata": {},
     "source": [
      "save dataframe into file"
     ]
    },
    {
     "cell_type": "code",
     "collapsed": false,
     "input": [
      "rt_uva_hmm_seg.to_csv('../code/rt_mutation_rate_correlation_analysis/reg_uva_rt.bed',sep='\\t',index=False,header=False)"
     ],
     "language": "python",
     "metadata": {},
     "outputs": []
    }
   ],
   "metadata": {}
  }
 ]
}