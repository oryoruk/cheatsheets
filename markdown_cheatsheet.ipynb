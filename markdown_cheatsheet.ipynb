{
 "metadata": {
  "name": "",
  "signature": "sha256:0fe80442bbea37a9969d1e2d321668e0bd6592b1cf331a77a990c9113996dd7d"
 },
 "nbformat": 3,
 "nbformat_minor": 0,
 "worksheets": [
  {
   "cells": [
    {
     "cell_type": "heading",
     "level": 1,
     "metadata": {},
     "source": [
      "Markdown Cheatsheet"
     ]
    },
    {
     "cell_type": "code",
     "collapsed": false,
     "input": [
      "example monospace formatting:\n",
      "    \n",
      "`raw text raw text raw text raw text raw text raw text raw text raw text raw text raw text raw text raw text raw text`"
     ],
     "language": "python",
     "metadata": {},
     "outputs": []
    },
    {
     "cell_type": "markdown",
     "metadata": {},
     "source": [
      "example monospace formatting:\n",
      "    \n",
      "`raw text raw text raw text raw text raw text raw text raw text raw text raw text raw text raw text raw text raw text`"
     ]
    },
    {
     "cell_type": "code",
     "collapsed": false,
     "input": [
      "*italics* and _italics_"
     ],
     "language": "python",
     "metadata": {},
     "outputs": []
    },
    {
     "cell_type": "markdown",
     "metadata": {},
     "source": [
      "*italics* and _italics_"
     ]
    },
    {
     "cell_type": "code",
     "collapsed": false,
     "input": [
      "**bold** and __bold__"
     ],
     "language": "python",
     "metadata": {},
     "outputs": []
    },
    {
     "cell_type": "markdown",
     "metadata": {},
     "source": [
      "**bold** and __bold__"
     ]
    },
    {
     "cell_type": "code",
     "collapsed": false,
     "input": [
      "~~strikethrough~~"
     ],
     "language": "python",
     "metadata": {},
     "outputs": []
    },
    {
     "cell_type": "markdown",
     "metadata": {},
     "source": [
      "~~strikethrough~~"
     ]
    },
    {
     "cell_type": "code",
     "collapsed": false,
     "input": [
      "[this is a link](www.rstudio.com)"
     ],
     "language": "python",
     "metadata": {},
     "outputs": []
    },
    {
     "cell_type": "markdown",
     "metadata": {},
     "source": [
      "[this is a link](www.rstudio.com)"
     ]
    },
    {
     "cell_type": "code",
     "collapsed": false,
     "input": [
      "# Header 1\n",
      "## Header 2\n",
      "### Header 3\n",
      "#### Header 4\n",
      "##### Header 5\n",
      "###### Header 6"
     ],
     "language": "python",
     "metadata": {},
     "outputs": []
    },
    {
     "cell_type": "markdown",
     "metadata": {},
     "source": [
      "# Header 1\n",
      "## Header 2\n",
      "### Header 3\n",
      "#### Header 4\n",
      "##### Header 5\n",
      "###### Header 6"
     ]
    },
    {
     "cell_type": "code",
     "collapsed": false,
     "input": [
      "inline equation: $A = \\pi*r^{2}$"
     ],
     "language": "python",
     "metadata": {},
     "outputs": []
    },
    {
     "cell_type": "markdown",
     "metadata": {},
     "source": [
      "inline equation: $A = \\pi*r^{2}$"
     ]
    },
    {
     "cell_type": "code",
     "collapsed": false,
     "input": [
      "Inline math equations go in like so: $\\omega = d\\phi / dt$. Display\n",
      "math should get its own line and be put in in double-dollarsigns:\n",
      "\n",
      "$$I = \\int \\rho R^{2} dV$$"
     ],
     "language": "python",
     "metadata": {},
     "outputs": []
    },
    {
     "cell_type": "markdown",
     "metadata": {},
     "source": [
      "Inline math equations go in like so: $\\omega = d\\phi / dt$. Display\n",
      "math should get its own line and be put in in double-dollarsigns:\n",
      "\n",
      "$$I = \\int \\rho R^{2} dV$$"
     ]
    },
    {
     "cell_type": "code",
     "collapsed": false,
     "input": [
      "Table Header | Second Header\n",
      "- | -\n",
      "Table Cell | Cell 2\n",
      "Cell 3 | Cell 4 "
     ],
     "language": "python",
     "metadata": {},
     "outputs": []
    },
    {
     "cell_type": "markdown",
     "metadata": {},
     "source": [
      "Table Header | Second Header\n",
      "- | -\n",
      "Table Cell | Cell 2\n",
      "Cell 3 | Cell 4 "
     ]
    },
    {
     "cell_type": "code",
     "collapsed": false,
     "input": [
      "| Option | Description |\n",
      "| ------:| -----------:|\n",
      "| data   | path to data files to supply the data that will be passed into templates. |\n",
      "| engine | engine to be used for processing templates. Handlebars is the default. |\n",
      "| ext    | extension to be used for dest files. |"
     ],
     "language": "python",
     "metadata": {},
     "outputs": []
    },
    {
     "cell_type": "markdown",
     "metadata": {},
     "source": [
      "| Option | Description |\n",
      "| ------:| -----------:|\n",
      "| data   | path to data files to supply the data that will be passed into templates. |\n",
      "| engine | engine to be used for processing templates. Handlebars is the default. |\n",
      "| ext    | extension to be used for dest files. |"
     ]
    },
    {
     "cell_type": "code",
     "collapsed": false,
     "input": [
      "1. ordered list\n",
      "2. item 2\n",
      " 1. sub-item 1\n",
      " 2. sub-item 2"
     ],
     "language": "python",
     "metadata": {},
     "outputs": []
    },
    {
     "cell_type": "markdown",
     "metadata": {},
     "source": [
      "1. ordered list\n",
      "2. item 2\n",
      " 1. sub-item 1\n",
      " 2. sub-item 2"
     ]
    },
    {
     "cell_type": "code",
     "collapsed": false,
     "input": [
      "1. ordered list\n",
      "2. item 2\n",
      " * sub-item 1\n",
      " * sub-item 2"
     ],
     "language": "python",
     "metadata": {},
     "outputs": []
    },
    {
     "cell_type": "markdown",
     "metadata": {},
     "source": [
      "1. ordered list\n",
      "2. item 2\n",
      " * sub-item 1\n",
      " * sub-item 2"
     ]
    },
    {
     "cell_type": "code",
     "collapsed": false,
     "input": [
      "* unordered list\n",
      "* item\n",
      " * sub-item 1\n",
      " * sub-item 2\n",
      "\n",
      "\n",
      "* unordered list\n",
      "* item 2\n",
      " + sub-item 1\n",
      " + sub-item 2\n",
      "   + test2\n",
      " + test\n",
      "\n",
      "\n",
      "* unordered list\n",
      "* item 2\n",
      "    + sub-item 1\n",
      "    + sub-item 2\n",
      "        - test2\n",
      "    + test"
     ],
     "language": "python",
     "metadata": {},
     "outputs": []
    },
    {
     "cell_type": "markdown",
     "metadata": {},
     "source": [
      "* unordered list\n",
      "* item\n",
      " * sub-item 1\n",
      " * sub-item 2\n",
      "\n",
      "\n",
      "* unordered list\n",
      "* item 2\n",
      " + sub-item 1\n",
      " + sub-item 2\n",
      "   + test2\n",
      " + test\n",
      "\n",
      "\n",
      "* unordered list\n",
      "* item 2\n",
      "    + sub-item 1\n",
      "    + sub-item 2\n",
      "        - test2\n",
      "    + test"
     ]
    },
    {
     "cell_type": "code",
     "collapsed": false,
     "input": [
      "horizontal line btw. text\n",
      "***\n",
      "\n",
      "horizontal line btw. text"
     ],
     "language": "python",
     "metadata": {},
     "outputs": []
    },
    {
     "cell_type": "markdown",
     "metadata": {},
     "source": [
      "horizontal line btw. text\n",
      "***\n",
      "\n",
      "horizontal line btw. text"
     ]
    },
    {
     "cell_type": "code",
     "collapsed": false,
     "input": [
      "Plain text"
     ],
     "language": "python",
     "metadata": {},
     "outputs": []
    },
    {
     "cell_type": "markdown",
     "metadata": {},
     "source": [
      "Plain text"
     ]
    },
    {
     "cell_type": "code",
     "collapsed": false,
     "input": [
      "endash: --"
     ],
     "language": "python",
     "metadata": {},
     "outputs": []
    },
    {
     "cell_type": "markdown",
     "metadata": {},
     "source": [
      "endash: --"
     ]
    },
    {
     "cell_type": "code",
     "collapsed": false,
     "input": [
      "emdash: ---"
     ],
     "language": "python",
     "metadata": {},
     "outputs": []
    },
    {
     "cell_type": "markdown",
     "metadata": {},
     "source": [
      "emdash: ---"
     ]
    },
    {
     "cell_type": "code",
     "collapsed": false,
     "input": [
      "ellipsis: ..."
     ],
     "language": "python",
     "metadata": {},
     "outputs": []
    },
    {
     "cell_type": "markdown",
     "metadata": {},
     "source": [
      "ellipsis: ..."
     ]
    },
    {
     "cell_type": "code",
     "collapsed": false,
     "input": [
      "image: ![](path/to/smallorb.png)"
     ],
     "language": "python",
     "metadata": {},
     "outputs": []
    },
    {
     "cell_type": "markdown",
     "metadata": {},
     "source": [
      "image: ![](path/to/smallorb.png)"
     ]
    },
    {
     "cell_type": "code",
     "collapsed": false,
     "input": [
      "> block quote\n",
      "this is a quote"
     ],
     "language": "python",
     "metadata": {},
     "outputs": []
    },
    {
     "cell_type": "markdown",
     "metadata": {},
     "source": [
      "> block quote\n",
      "this is a quote"
     ]
    },
    {
     "cell_type": "code",
     "collapsed": false,
     "input": [
      "~~~python\n",
      "import time\n",
      "# Quick, count to ten!\n",
      "for i in range(10):\n",
      "    # (but not *too* quick)\n",
      "    time.sleep(0.5)\n",
      "    print i\n",
      "~~~"
     ],
     "language": "python",
     "metadata": {},
     "outputs": []
    },
    {
     "cell_type": "markdown",
     "metadata": {},
     "source": [
      "~~~python\n",
      "import time\n",
      "# Quick, count to ten!\n",
      "for i in range(10):\n",
      "    # (but not *too* quick)\n",
      "    time.sleep(0.5)\n",
      "    print i\n",
      "~~~"
     ]
    },
    {
     "cell_type": "code",
     "collapsed": false,
     "input": [
      "indentation for code:\n",
      "    \n",
      "    test this is code"
     ],
     "language": "python",
     "metadata": {},
     "outputs": []
    },
    {
     "cell_type": "markdown",
     "metadata": {},
     "source": [
      "indentation for code:\n",
      "    \n",
      "    test this is code"
     ]
    },
    {
     "cell_type": "code",
     "collapsed": false,
     "input": [
      "backslash-escape any punctuation characters\n",
      "which you wish to be displayed literally, ex.: \\`foo\\`, \\*bar\\*, etc."
     ],
     "language": "python",
     "metadata": {},
     "outputs": []
    },
    {
     "cell_type": "markdown",
     "metadata": {},
     "source": [
      "backslash-escape any punctuation characters\n",
      "which you wish to be displayed literally, ex.: \\`foo\\`, \\*bar\\*, etc."
     ]
    }
   ],
   "metadata": {}
  }
 ]
}