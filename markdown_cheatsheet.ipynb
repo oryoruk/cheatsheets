{
 "metadata": {
  "name": "",
  "signature": "sha256:97f4a22ba8b4ccc01be9731e6d7ffd7ccc7af51da159bce795fe68cd23e8ec32"
 },
 "nbformat": 3,
 "nbformat_minor": 0,
 "worksheets": [
  {
   "cells": [
    {
     "cell_type": "heading",
     "level": 1,
     "metadata": {},
     "source": [
      "Markdown Cheatsheet"
     ]
    },
    {
     "cell_type": "raw",
     "metadata": {},
     "source": [
      "example monospace formatting:\n",
      "    \n",
      "`raw text raw text raw text raw text raw text raw text raw text raw text raw text raw text raw text raw text raw text`"
     ]
    },
    {
     "cell_type": "markdown",
     "metadata": {},
     "source": [
      "example monospace formatting:\n",
      "    \n",
      "`raw text raw text raw text raw text raw text raw text raw text raw text raw text raw text raw text raw text raw text`"
     ]
    },
    {
     "cell_type": "raw",
     "metadata": {},
     "source": [
      "*italics* and _italics_"
     ]
    },
    {
     "cell_type": "markdown",
     "metadata": {},
     "source": [
      "*italics* and _italics_"
     ]
    },
    {
     "cell_type": "raw",
     "metadata": {},
     "source": [
      "**bold** and __bold__"
     ]
    },
    {
     "cell_type": "markdown",
     "metadata": {},
     "source": [
      "**bold** and __bold__"
     ]
    },
    {
     "cell_type": "raw",
     "metadata": {},
     "source": [
      "~~strikethrough~~"
     ]
    },
    {
     "cell_type": "markdown",
     "metadata": {},
     "source": [
      "~~strikethrough~~"
     ]
    },
    {
     "cell_type": "raw",
     "metadata": {},
     "source": [
      "[this is a link](www.rstudio.com)"
     ]
    },
    {
     "cell_type": "markdown",
     "metadata": {},
     "source": [
      "[this is a link](www.rstudio.com)"
     ]
    },
    {
     "cell_type": "code",
     "collapsed": false,
     "input": [
      "# Header 1\n",
      "## Header 2\n",
      "### Header 3\n",
      "#### Header 4\n",
      "##### Header 5\n",
      "###### Header 6"
     ],
     "language": "python",
     "metadata": {},
     "outputs": []
    },
    {
     "cell_type": "markdown",
     "metadata": {},
     "source": [
      "# Header 1\n",
      "## Header 2\n",
      "### Header 3\n",
      "#### Header 4\n",
      "##### Header 5\n",
      "###### Header 6"
     ]
    },
    {
     "cell_type": "raw",
     "metadata": {},
     "source": [
      "inline equation: $A = \\pi*r^{2}$"
     ]
    },
    {
     "cell_type": "markdown",
     "metadata": {},
     "source": [
      "inline equation: $A = \\pi*r^{2}$"
     ]
    },
    {
     "cell_type": "raw",
     "metadata": {},
     "source": [
      "Inline math equations go in like so: $\\omega = d\\phi / dt$. Display\n",
      "math should get its own line and be put in in double-dollarsigns:\n",
      "\n",
      "$$I = \\int \\rho R^{2} dV$$"
     ]
    },
    {
     "cell_type": "markdown",
     "metadata": {},
     "source": [
      "Inline math equations go in like so: $\\omega = d\\phi / dt$. Display\n",
      "math should get its own line and be put in in double-dollarsigns:\n",
      "\n",
      "$$I = \\int \\rho R^{2} dV$$"
     ]
    },
    {
     "cell_type": "raw",
     "metadata": {},
     "source": [
      "Table Header | Second Header\n",
      "- | -\n",
      "Table Cell | Cell 2\n",
      "Cell 3 | Cell 4 "
     ]
    },
    {
     "cell_type": "markdown",
     "metadata": {},
     "source": [
      "Table Header | Second Header\n",
      "- | -\n",
      "Table Cell | Cell 2\n",
      "Cell 3 | Cell 4 "
     ]
    },
    {
     "cell_type": "raw",
     "metadata": {},
     "source": [
      "| Option | Description |\n",
      "| ------:| -----------:|\n",
      "| data   | path to data files to supply the data that will be passed into templates. |\n",
      "| engine | engine to be used for processing templates. Handlebars is the default. |\n",
      "| ext    | extension to be used for dest files. |"
     ]
    },
    {
     "cell_type": "markdown",
     "metadata": {},
     "source": [
      "| Option | Description |\n",
      "| ------:| -----------:|\n",
      "| data   | path to data files to supply the data that will be passed into templates. |\n",
      "| engine | engine to be used for processing templates. Handlebars is the default. |\n",
      "| ext    | extension to be used for dest files. |"
     ]
    },
    {
     "cell_type": "raw",
     "metadata": {},
     "source": [
      "1. ordered list\n",
      "2. item 2\n",
      " 1. sub-item 1\n",
      " 2. sub-item 2"
     ]
    },
    {
     "cell_type": "markdown",
     "metadata": {},
     "source": [
      "1. ordered list\n",
      "2. item 2\n",
      " 1. sub-item 1\n",
      " 2. sub-item 2"
     ]
    },
    {
     "cell_type": "raw",
     "metadata": {},
     "source": [
      "1. ordered list\n",
      "2. item 2\n",
      " * sub-item 1\n",
      " * sub-item 2"
     ]
    },
    {
     "cell_type": "markdown",
     "metadata": {},
     "source": [
      "1. ordered list\n",
      "2. item 2\n",
      " * sub-item 1\n",
      " * sub-item 2"
     ]
    },
    {
     "cell_type": "raw",
     "metadata": {},
     "source": [
      "* unordered list\n",
      "* item\n",
      " * sub-item 1\n",
      " * sub-item 2\n",
      "\n",
      "\n",
      "* unordered list\n",
      "* item 2\n",
      " + sub-item 1\n",
      " + sub-item 2\n",
      "   + test2\n",
      " + test\n",
      "\n",
      "\n",
      "* unordered list\n",
      "* item 2\n",
      "    + sub-item 1\n",
      "    + sub-item 2\n",
      "        - test2\n",
      "    + test"
     ]
    },
    {
     "cell_type": "markdown",
     "metadata": {},
     "source": [
      "* unordered list\n",
      "* item\n",
      " * sub-item 1\n",
      " * sub-item 2\n",
      "\n",
      "\n",
      "* unordered list\n",
      "* item 2\n",
      " + sub-item 1\n",
      " + sub-item 2\n",
      "   + test2\n",
      " + test\n",
      "\n",
      "\n",
      "* unordered list\n",
      "* item 2\n",
      "    + sub-item 1\n",
      "    + sub-item 2\n",
      "        - test2\n",
      "    + test"
     ]
    },
    {
     "cell_type": "raw",
     "metadata": {},
     "source": [
      "horizontal line btw. text\n",
      "***\n",
      "\n",
      "horizontal line btw. text"
     ]
    },
    {
     "cell_type": "markdown",
     "metadata": {},
     "source": [
      "horizontal line btw. text\n",
      "***\n",
      "\n",
      "horizontal line btw. text"
     ]
    },
    {
     "cell_type": "raw",
     "metadata": {},
     "source": [
      "Plain text"
     ]
    },
    {
     "cell_type": "markdown",
     "metadata": {},
     "source": [
      "Plain text"
     ]
    },
    {
     "cell_type": "raw",
     "metadata": {},
     "source": [
      "endash: --"
     ]
    },
    {
     "cell_type": "markdown",
     "metadata": {},
     "source": [
      "endash: --"
     ]
    },
    {
     "cell_type": "raw",
     "metadata": {},
     "source": [
      "emdash: ---"
     ]
    },
    {
     "cell_type": "markdown",
     "metadata": {},
     "source": [
      "emdash: ---"
     ]
    },
    {
     "cell_type": "raw",
     "metadata": {},
     "source": [
      "ellipsis: ..."
     ]
    },
    {
     "cell_type": "markdown",
     "metadata": {},
     "source": [
      "ellipsis: ..."
     ]
    },
    {
     "cell_type": "raw",
     "metadata": {},
     "source": [
      "image: ![](path/to/smallorb.png)"
     ]
    },
    {
     "cell_type": "markdown",
     "metadata": {},
     "source": [
      "image: ![](path/to/smallorb.png)"
     ]
    },
    {
     "cell_type": "raw",
     "metadata": {},
     "source": [
      "> block quote\n",
      "this is a quote"
     ]
    },
    {
     "cell_type": "markdown",
     "metadata": {},
     "source": [
      "> block quote\n",
      "this is a quote"
     ]
    },
    {
     "cell_type": "raw",
     "metadata": {},
     "source": [
      "~~~python\n",
      "import time\n",
      "# Quick, count to ten!\n",
      "for i in range(10):\n",
      "    # (but not *too* quick)\n",
      "    time.sleep(0.5)\n",
      "    print i\n",
      "~~~"
     ]
    },
    {
     "cell_type": "markdown",
     "metadata": {},
     "source": [
      "~~~python\n",
      "import time\n",
      "# Quick, count to ten!\n",
      "for i in range(10):\n",
      "    # (but not *too* quick)\n",
      "    time.sleep(0.5)\n",
      "    print i\n",
      "~~~"
     ]
    },
    {
     "cell_type": "raw",
     "metadata": {},
     "source": [
      "indentation for code:\n",
      "    \n",
      "    test this is code"
     ]
    },
    {
     "cell_type": "markdown",
     "metadata": {},
     "source": [
      "indentation for code:\n",
      "    \n",
      "    test this is code"
     ]
    },
    {
     "cell_type": "raw",
     "metadata": {},
     "source": [
      "backslash-escape any punctuation characters\n",
      "which you wish to be displayed literally, ex.: \\`foo\\`, \\*bar\\*, etc."
     ]
    },
    {
     "cell_type": "markdown",
     "metadata": {},
     "source": [
      "backslash-escape any punctuation characters\n",
      "which you wish to be displayed literally, ex.: \\`foo\\`, \\*bar\\*, etc."
     ]
    }
   ],
   "metadata": {}
  }
 ]
}